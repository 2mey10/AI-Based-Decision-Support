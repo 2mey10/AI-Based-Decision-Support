{
 "cells": [
  {
   "cell_type": "code",
   "execution_count": 1,
   "metadata": {},
   "outputs": [],
   "source": [
    "import matplotlib.pyplot as plt\n",
    "import numpy as np"
   ]
  },
  {
   "cell_type": "code",
   "execution_count": 2,
   "metadata": {},
   "outputs": [],
   "source": [
    "def g(x):\n",
    "    return 1 / ( 1 + np.exp(-x))"
   ]
  },
  {
   "cell_type": "code",
   "execution_count": 3,
   "metadata": {},
   "outputs": [],
   "source": [
    "def log_reg(thetas: list,values: list):\n",
    "    values.insert(0,1)\n",
    "    sum = np.sum([thetas[i]*values[i] for i in range(len(thetas))])\n",
    "    return g(sum)\n"
   ]
  },
  {
   "cell_type": "code",
   "execution_count": 4,
   "metadata": {},
   "outputs": [
    {
     "data": {
      "text/plain": [
       "0.5621765008857981"
      ]
     },
     "execution_count": 4,
     "metadata": {},
     "output_type": "execute_result"
    }
   ],
   "source": [
    "log_reg([-81,2.5,1.25],[25,15])"
   ]
  },
  {
   "cell_type": "code",
   "execution_count": 17,
   "metadata": {},
   "outputs": [],
   "source": [
    "def log_reg2(thetas: list,values: list):\n",
    "    values_loc = values\n",
    "    values_loc.insert(0,1)\n",
    "    print(np.dot(thetas,values_loc))\n",
    "    return g(np.dot(thetas,values_loc))\n"
   ]
  },
  {
   "cell_type": "code",
   "execution_count": 18,
   "metadata": {},
   "outputs": [
    {
     "name": "stdout",
     "output_type": "stream",
     "text": [
      "0.25\n"
     ]
    },
    {
     "data": {
      "text/plain": [
       "0.5621765008857981"
      ]
     },
     "execution_count": 18,
     "metadata": {},
     "output_type": "execute_result"
    }
   ],
   "source": [
    "log_reg2([-81,2.5,1.25],[25,15])"
   ]
  },
  {
   "cell_type": "code",
   "execution_count": 23,
   "metadata": {},
   "outputs": [
    {
     "name": "stdout",
     "output_type": "stream",
     "text": [
      "32\n",
      "0.9999999999999873\n",
      "1.2656542480726865e-14\n"
     ]
    }
   ],
   "source": [
    "params1 = [6,2,-2]\n",
    "params2 = [-40,-3,5]\n",
    "vals = [5,-8]\n",
    "sol = log_reg2(params1,vals)\n",
    "loss = -y * np.log(sol) - (1-y)*np.log(1-sol)\n",
    "print(sol)\n",
    "print(loss)"
   ]
  },
  {
   "cell_type": "code",
   "execution_count": 25,
   "metadata": {},
   "outputs": [
    {
     "name": "stdout",
     "output_type": "stream",
     "text": [
      "-95\n",
      "5.5210822770285325e-42\n",
      "95.0\n"
     ]
    }
   ],
   "source": [
    "params1 = [6,2,-2]\n",
    "params2 = [-40,-3,5]\n",
    "vals = [5,-8]\n",
    "y = 1\n",
    "sol = log_reg2(params2,vals)\n",
    "loss = -y * np.log(sol) - (1-y)*np.log(1-sol)\n",
    "print(sol)\n",
    "print(loss)"
   ]
  },
  {
   "cell_type": "code",
   "execution_count": 26,
   "metadata": {},
   "outputs": [
    {
     "data": {
      "text/plain": [
       "95.0"
      ]
     },
     "execution_count": 26,
     "metadata": {},
     "output_type": "execute_result"
    }
   ],
   "source": [
    "-np.log(5.5210822770285325e-42)"
   ]
  },
  {
   "cell_type": "code",
   "execution_count": 27,
   "metadata": {},
   "outputs": [
    {
     "name": "stdout",
     "output_type": "stream",
     "text": [
      "-83.5\n"
     ]
    },
    {
     "data": {
      "text/plain": [
       "5.4501789379071685e-37"
      ]
     },
     "execution_count": 27,
     "metadata": {},
     "output_type": "execute_result"
    }
   ],
   "source": [
    "log_reg2([20,1.4,-1.3],[5,85])"
   ]
  },
  {
   "cell_type": "code",
   "execution_count": null,
   "metadata": {},
   "outputs": [],
   "source": []
  }
 ],
 "metadata": {
  "kernelspec": {
   "display_name": "Python 3",
   "language": "python",
   "name": "python3"
  },
  "language_info": {
   "codemirror_mode": {
    "name": "ipython",
    "version": 3
   },
   "file_extension": ".py",
   "mimetype": "text/x-python",
   "name": "python",
   "nbconvert_exporter": "python",
   "pygments_lexer": "ipython3",
   "version": "3.8.8"
  }
 },
 "nbformat": 4,
 "nbformat_minor": 1
}
